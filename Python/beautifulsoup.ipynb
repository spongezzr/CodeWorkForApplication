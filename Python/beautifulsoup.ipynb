{
 "cells": [
  {
   "cell_type": "markdown",
   "metadata": {},
   "source": [
    "# Introduction to BeautifulSoup\n",
    "\n",
    "BeautifulSoup is a powerful HTML parser, used to extract information from an HTML page. BeautifulSoup itself does not download the web (HTML) pages. We need to use other tools, such as the `urllib.request` package to connect and download web pages, then feed the HTML to BeautifulSoup."
   ]
  },
  {
   "cell_type": "markdown",
   "metadata": {},
   "source": [
    "## Parsing a simple HTML\n",
    "\n",
    "Suppose we have an HTML page, stored as a string \"html\":"
   ]
  },
  {
   "cell_type": "code",
   "execution_count": 1,
   "metadata": {
    "collapsed": true
   },
   "outputs": [],
   "source": [
    "html = \"\"\"\n",
    "<!DOCTYPE html>\n",
    "<html>\n",
    "<head>\n",
    "<title>Page Title</title>\n",
    "</head>\n",
    "<body>\n",
    "\n",
    "<h1>My First Heading</h1>\n",
    "<p>My first paragraph.</p>\n",
    "\n",
    "<p>My Second paragraph.</p>\n",
    "\n",
    "</body>\n",
    "</html>\n",
    "\"\"\""
   ]
  },
  {
   "cell_type": "markdown",
   "metadata": {},
   "source": [
    "We can load the string into BeautifulSoup:"
   ]
  },
  {
   "cell_type": "code",
   "execution_count": 2,
   "metadata": {
    "collapsed": true
   },
   "outputs": [],
   "source": [
    "from bs4 import BeautifulSoup\n",
    "bs = BeautifulSoup(html, \"html5lib\")"
   ]
  },
  {
   "cell_type": "markdown",
   "metadata": {},
   "source": [
    "Now we can access the HTML elements easily:"
   ]
  },
  {
   "cell_type": "code",
   "execution_count": 33,
   "metadata": {},
   "outputs": [
    {
     "data": {
      "text/plain": [
       "<h1>War and Peace</h1>"
      ]
     },
     "execution_count": 33,
     "metadata": {},
     "output_type": "execute_result"
    }
   ],
   "source": [
    "bs.html.body.h1"
   ]
  },
  {
   "cell_type": "code",
   "execution_count": 4,
   "metadata": {},
   "outputs": [
    {
     "name": "stdout",
     "output_type": "stream",
     "text": [
      "<!DOCTYPE html>\n",
      "<html>\n",
      " <head>\n",
      "  <title>\n",
      "   Page Title\n",
      "  </title>\n",
      " </head>\n",
      " <body>\n",
      "  <h1>\n",
      "   My First Heading\n",
      "  </h1>\n",
      "  <p>\n",
      "   My first paragraph.\n",
      "  </p>\n",
      "  <p>\n",
      "   My Second paragraph.\n",
      "  </p>\n",
      " </body>\n",
      "</html>\n"
     ]
    }
   ],
   "source": [
    "# Pretty print -- showing the hierarchical structure of the HTML\n",
    "\n",
    "print(bs.prettify())"
   ]
  },
  {
   "cell_type": "code",
   "execution_count": 5,
   "metadata": {},
   "outputs": [
    {
     "data": {
      "text/plain": [
       "<head>\n",
       "<title>Page Title</title>\n",
       "</head>"
      ]
     },
     "execution_count": 5,
     "metadata": {},
     "output_type": "execute_result"
    }
   ],
   "source": [
    "bs.html.head"
   ]
  },
  {
   "cell_type": "code",
   "execution_count": 6,
   "metadata": {},
   "outputs": [
    {
     "data": {
      "text/plain": [
       "<title>Page Title</title>"
      ]
     },
     "execution_count": 6,
     "metadata": {},
     "output_type": "execute_result"
    }
   ],
   "source": [
    "bs.html.head.title"
   ]
  },
  {
   "cell_type": "code",
   "execution_count": 7,
   "metadata": {},
   "outputs": [
    {
     "data": {
      "text/plain": [
       "bs4.element.Tag"
      ]
     },
     "execution_count": 7,
     "metadata": {},
     "output_type": "execute_result"
    }
   ],
   "source": [
    "type(bs.html.head.title)"
   ]
  },
  {
   "cell_type": "code",
   "execution_count": 8,
   "metadata": {},
   "outputs": [
    {
     "data": {
      "text/plain": [
       "'Page Title'"
      ]
     },
     "execution_count": 8,
     "metadata": {},
     "output_type": "execute_result"
    }
   ],
   "source": [
    "bs.html.head.title.get_text()"
   ]
  },
  {
   "cell_type": "code",
   "execution_count": 9,
   "metadata": {},
   "outputs": [
    {
     "data": {
      "text/plain": [
       "[<p>My first paragraph.</p>, <p>My Second paragraph.</p>]"
      ]
     },
     "execution_count": 9,
     "metadata": {},
     "output_type": "execute_result"
    }
   ],
   "source": [
    "bs.find_all(\"p\")"
   ]
  },
  {
   "cell_type": "code",
   "execution_count": 10,
   "metadata": {},
   "outputs": [
    {
     "data": {
      "text/plain": [
       "<p>My first paragraph.</p>"
      ]
     },
     "execution_count": 10,
     "metadata": {},
     "output_type": "execute_result"
    }
   ],
   "source": [
    "# this only shows the first occurance (if there are multiple ones)\n",
    "bs.html.body.p"
   ]
  },
  {
   "cell_type": "markdown",
   "metadata": {},
   "source": [
    "## Tags and attributes"
   ]
  },
  {
   "cell_type": "code",
   "execution_count": 11,
   "metadata": {
    "collapsed": true
   },
   "outputs": [],
   "source": [
    "# example copied from the internet\n",
    "\n",
    "html = \"\"\"\n",
    "<html>\n",
    "<head>\n",
    "<style>\n",
    ".green{ \n",
    "    color:#008000;\n",
    "}\n",
    ".red{\n",
    "    color:##FF0000;\n",
    "}\n",
    "#text{\n",
    "    width:70%;\n",
    "}\n",
    "</style>\n",
    "</head>\n",
    "<body>\n",
    "<h1>War and Peace</h1>\n",
    "<h2>Chapter 1</h2>\n",
    "<div id=\"text\">\n",
    "\"<span class=\"red\">Well, Prince, so Genoa and Lucca are now just family estates of the\n",
    "Buonapartes. </span> \n",
    "But I warn you, if you don't tell me that this means war,\n",
    "if you still try to defend the infamies and horrors perpetrated by\n",
    "that Antichrist- I really believe he is Antichrist- I will have\n",
    "nothing more to do with you and you are no longer my friend, no longer\n",
    "my 'faithful slave,' as you call yourself! But how do you do? I see\n",
    "I have frightened you- sit down and tell me all the news.\"\n",
    "<p/>\n",
    "It was in July, 1805, and the speaker was the well-known <span class=\"green\">Anna\n",
    "Pavlovna Scherer</span>, maid of honor and favorite of the <span class=\"green\">Empress Marya\n",
    "Fedorovna</span>. With these words she greeted <span class=\"green\">Prince Vasili Kuragin</span>, a man\n",
    "of high rank and importance, who was the first to arrive at her\n",
    "reception. <span class=\"green\">Anna Pavlovna</span> had had a cough for some days. She was, as\n",
    "she said, suffering from la grippe; grippe being then a new word in\n",
    "<span class=\"green\">St. Petersburg</span>, used only by the elite.\n",
    "<p/>\n",
    "\"\"\""
   ]
  },
  {
   "cell_type": "code",
   "execution_count": 12,
   "metadata": {},
   "outputs": [
    {
     "data": {
      "text/plain": [
       "[<span class=\"red\">Well, Prince, so Genoa and Lucca are now just family estates of the\n",
       " Buonapartes. </span>, <span class=\"green\">Anna\n",
       " Pavlovna Scherer</span>, <span class=\"green\">Empress Marya\n",
       " Fedorovna</span>, <span class=\"green\">Prince Vasili Kuragin</span>, <span class=\"green\">Anna Pavlovna</span>, <span class=\"green\">St. Petersburg</span>]"
      ]
     },
     "execution_count": 12,
     "metadata": {},
     "output_type": "execute_result"
    }
   ],
   "source": [
    "bs = BeautifulSoup(html, \"html5lib\")\n",
    "\n",
    "# specify only tag\n",
    "\n",
    "bs.find_all('span')"
   ]
  },
  {
   "cell_type": "code",
   "execution_count": 13,
   "metadata": {},
   "outputs": [
    {
     "data": {
      "text/plain": [
       "[<span class=\"green\">Anna\n",
       " Pavlovna Scherer</span>, <span class=\"green\">Empress Marya\n",
       " Fedorovna</span>, <span class=\"green\">Prince Vasili Kuragin</span>, <span class=\"green\">Anna Pavlovna</span>, <span class=\"green\">St. Petersburg</span>]"
      ]
     },
     "execution_count": 13,
     "metadata": {},
     "output_type": "execute_result"
    }
   ],
   "source": [
    "# Specifying both tag and attributes\n",
    "\n",
    "bs.find_all('span', {\"class\": \"green\"})"
   ]
  },
  {
   "cell_type": "code",
   "execution_count": 14,
   "metadata": {
    "scrolled": false
   },
   "outputs": [
    {
     "name": "stdout",
     "output_type": "stream",
     "text": [
      "Anna\n",
      "Pavlovna Scherer\n",
      "Empress Marya\n",
      "Fedorovna\n",
      "Prince Vasili Kuragin\n",
      "Anna Pavlovna\n",
      "St. Petersburg\n"
     ]
    }
   ],
   "source": [
    "# extract the text from the tags\n",
    "for x in bs.find_all('span', {\"class\": \"green\"}):\n",
    "    print(x.get_text())"
   ]
  },
  {
   "cell_type": "code",
   "execution_count": 37,
   "metadata": {},
   "outputs": [
    {
     "name": "stdout",
     "output_type": "stream",
     "text": [
      "Well, Prince, so Genoa and Lucca are now just family estates of the\n",
      "Buonapartes. \n",
      "Anna\n",
      "Pavlovna Scherer\n",
      "Empress Marya\n",
      "Fedorovna\n",
      "Prince Vasili Kuragin\n",
      "Anna Pavlovna\n",
      "St. Petersburg\n"
     ]
    }
   ],
   "source": [
    "# extract multiple attributes\n",
    "for x in bs.find_all(\"span\", {\"class\" : [\"green\", \"red\"]}):\n",
    "    print(x.get_text())"
   ]
  },
  {
   "cell_type": "markdown",
   "metadata": {},
   "source": [
    "## Connect to a web page\n",
    "\n",
    "We use `urllib.request` to establish connection to a web page."
   ]
  },
  {
   "cell_type": "code",
   "execution_count": 16,
   "metadata": {
    "collapsed": true
   },
   "outputs": [],
   "source": [
    "import urllib.request\n",
    "\n",
    "url = 'http://www.ucla.edu'\n",
    "page = urllib.request.urlopen(url)\n",
    "html = page.read()\n",
    "soup = BeautifulSoup(html, \"html5lib\")"
   ]
  },
  {
   "cell_type": "markdown",
   "metadata": {},
   "source": [
    "This works. But before proceeding, let's inspect the objects we created a bit more carefully."
   ]
  },
  {
   "cell_type": "code",
   "execution_count": 17,
   "metadata": {},
   "outputs": [
    {
     "data": {
      "text/plain": [
       "bs4.BeautifulSoup"
      ]
     },
     "execution_count": 17,
     "metadata": {},
     "output_type": "execute_result"
    }
   ],
   "source": [
    "type(soup)"
   ]
  },
  {
   "cell_type": "markdown",
   "metadata": {},
   "source": [
    "The data read from the URL object is of type \"bytes\":"
   ]
  },
  {
   "cell_type": "code",
   "execution_count": 18,
   "metadata": {},
   "outputs": [
    {
     "data": {
      "text/plain": [
       "bytes"
      ]
     },
     "execution_count": 18,
     "metadata": {},
     "output_type": "execute_result"
    }
   ],
   "source": [
    "type(html)"
   ]
  },
  {
   "cell_type": "markdown",
   "metadata": {},
   "source": [
    "We could find out the char set and then decode the contents into string as follows:"
   ]
  },
  {
   "cell_type": "code",
   "execution_count": 19,
   "metadata": {},
   "outputs": [
    {
     "data": {
      "text/plain": [
       "'utf-8'"
      ]
     },
     "execution_count": 19,
     "metadata": {},
     "output_type": "execute_result"
    }
   ],
   "source": [
    "charset = page.info().get_content_charset()\n",
    "charset"
   ]
  },
  {
   "cell_type": "code",
   "execution_count": 20,
   "metadata": {},
   "outputs": [
    {
     "data": {
      "text/plain": [
       "str"
      ]
     },
     "execution_count": 20,
     "metadata": {},
     "output_type": "execute_result"
    }
   ],
   "source": [
    "page = urllib.request.urlopen(url)\n",
    "html = page.read().decode(charset)\n",
    "type(html)"
   ]
  },
  {
   "cell_type": "code",
   "execution_count": 21,
   "metadata": {},
   "outputs": [
    {
     "data": {
      "text/plain": [
       "'<!doctype html>\\n<html class=\"no-js desktop\" lang=\"en-US\">\\n\\n<head>\\n\\t<meta charset=\"utf-8\">\\n\\t<meta http-equiv=\"X-UA-Compatible\" content=\"IE=edge,chrome=1\">\\n\\t<meta name=\"viewport\" content=\"width=device-width, user-scalable=yes, initial-scale=1.0, minimum-scale=1.0, maximum-scale=2.0\">\\n\\n\\t<title>UCLA</title>\\n\\t<meta name=\"description\" content=\"UCLA advances knowledge, addresses pressing societal needs and creates a university enriched by diverse perspectives where all individuals can flourish.\">\\n\\t<meta name=\"keywords\" content=\"UCLA, University of California Los Angeles, Bruins, equity, diversity, inclusion, arts, art, college, institution, architecture, engineering, hyperloop, romela, brain, philanthropy, STEM, anderson, law, magazine, alumni, community, optimist, optimists, optimism\">\\n\\t<meta name=\"google-site-verification\" content=\"QS5gayPg38zC46YsAx4a9c3v4qTBkn-R69g90pQgpB0\" />\\n\\t<meta property=\"twitter:account_id\" content=\"18918483\" />\\n\\t\\n\\t<link rel=\"shortcut icon\" href=\"/img/favicon.ico\">\\n\\t<link rel=\"apple-touch-icon\" href=\"/img/apple-touch-icon.png\">\\n\\n\\t\\n\\t\\t<link rel=\"stylesheet\" href=\"/css/main.css\">\\n    <link rel=\"stylesheet\" href=\"/css/responsive.css\">\\n    <link rel=\"stylesheet\" href=\"/css/print.css\" media=\"print\">\\n\\n\\t<!--LET THERE BE TAKE OVER CSS-->\\n        <link rel=\"stylesheet\" href=\"/css/centennial-takeover-2017.css\">\\n\\t\\n\\t<script src=\"/js/modernizr.js\"></script>\\n    <script src=\"https://ajax.googleapis.com/ajax/libs/jquery/1.7.1/jquery.min.js\"></script>\\n    <script src=\"/js/analytics.js\"></script>\\n\\t<!--[if lte IE 6]><script src=\"/js/ie6/ie6-upgrade.min.js\"></script><![endif]-->\\n\\n    <!--IMAGE CACHE-->\\n        </head>\\n\\n\\n\\n<body class=\"homepage\">\\n\\n<!--\\nStart of DoubleClick Floodlight Tag: Please do not remove\\nActivity name of this tag: UCLA.edu\\nURL of the webpage where the tag is expected to be placed: http://www.ucla.edu/\\nThis tag must be placed between the <body> and </body> tags, as close as possible to the opening tag.\\nCreation Date: 05/13/2014\\n-->\\n<script type=\"text/javascript\">\\nvar axel = Math.random() + \"\";\\nvar a = axel * 10000000000000;\\ndocument.write(\\'<iframe src=\"http://4393665.fls.doubleclick.net/activityi;src=4393665;type=Prima0;cat=UCLAe0;ord=\\' + a + \\'?\" width=\"1\" height=\"1\" frameborder=\"0\" style=\"display:none\"></iframe>\\');\\n</script>\\n<noscript>\\n<iframe src=\"http://4393665.fls.doubleclick.net/activityi;src=4393665;type=Prima0;cat=UCLAe0;ord=1?\" width=\"1\" height=\"1\" frameborder=\"0\" style=\"display:none\" title=\"Floodlight Analytics\"></iframe>\\n</noscript>\\n<!-- End of DoubleClick Floodlight Tag: Please do not remove -->\\n\\n<script type=\"text/javascript\" src=\"http://a.adtpix.com/px/?id=104885\"></script>\\n\\n\\n\\n\\n\\n\\n\\n<div id=\"ie6Warning\"></div>\\n\\n\\n<!-- Page Wrap -->\\n<div id=\"page-wrap\">\\n\\n\\n\\t<!-- Skip Nav -->\\n\\t<div id=\"skip-nav\">\\n\\t    <a href=\"#audience-nav\">Skip to Navigation</a>\\n\\t    <a href=\"#searchbox\">Skip to Search</a>\\n\\t    <a href=\"#container\">Skip to Main Content</a>\\n\\t\\t<a href=\"#footer\">Skip to Footer Links</a>\\n\\t</div>\\n\\t<!-- End Skip Nav -->\\n\\n\\t<!-- Top Bar -->\\n\\t<div id=\"top-bar\">\\n\\t\\t<div id=\"top-bar-content\">\\n\\n\\t\\t\\t<!-- Weather -->\\n\\t\\t\\t\\n\\t\\t\\t<div id=\"weather\">\\n\\t\\t\\t\\t<a href=\"https://weather.atmos.ucla.edu/\">\\n\\t\\t\\t\\t\\t <img src=\"/img/weather/overcast.png\" alt=\"\"> <p>64&deg;<span> and Overcast</span></p>\\n\\t\\t\\t\\t</a>\\n\\t\\t\\t</div>\\n\\n\\t\\t\\t\\t\\t\\t<!-- End Weather -->\\n\\n\\t\\t\\t<!-- Audience Nav -->\\n\\t\\t\\t<div id=\"top-bar-nav\" role=\"navigation\"><ul id=\"audience-nav\">\\n\\t\\t\\t\\t\\t<li><a href=\"/students/prospective-students\" >Prospective Students</a></li><li><a href=\"/students/current-students\" >Current Students</a></li><li><a href=\"/faculty\" >Faculty</a></li><li><a href=\"/staff\" >Staff</a></li><li><a href=\"/alumni\" >Alumni</a></li><li><a href=\"/parents-and-families\" >Parents &amp; Families</a></li>\\n\\t\\t\\t\\t  </ul></div>\\n\\t\\t\\t\\t \\t\\t\\t<!-- End Audience Nav -->\\n\\n\\t\\t</div>\\n\\t</div>\\n\\t<!-- End Top Bar -->\\n<span id=\"print-logo\"><img src=\"/img/logo-print.gif\" alt=\"UCLA logo\"></span>\\n\\n<!-- Header -->\\n<div id=\"header\" role=\"banner\">\\n\\n    <!-- Header Content -->\\n    <div id=\"header-content\">\\n\\n        <!-- UCLA -->\\n        <h1 id=\"logo\"><a href=\"/\">UCLA</a></h1>\\n\\n                <!-- Responsive Buttons -->\\n        <div id=\"mobile-buttons\" role=\"navigation\">\\n\\t\\t\\t<a href=\"http://m.ucla.edu/?utm_source=ucla.edu%2Bresponsive%2Bhomepage&utm_medium=Apps%2Bbutton&utm_campaign=UCLA%2Bmobile%2Breferral%2Bfrom%2Bgateway\" id=\"mobile\">Apps<span></span></a>\\n\\t\\t\\t            <a href=\"#\" id=\"nav-control\">Menu<span></span></a>\\n            \\t\\t</div>\\n\\t\\t\\n\\n                <div id=\"header-nav\">\\n\\t\\t\\t<!-- Search Box -->\\n\\t\\t\\t<div id=\"searchbox\">\\n\\t\\t<form id=\"searchform\" name=\"searchform\" role=\"search\" method=\"get\" action=\"#\">\\n\\t\\t<input type=\\'hidden\\' name=\\'site\\' value=\\'UCLA\\'/>\\n\\t\\t<input type=\\'hidden\\' name=\\'client\\' value=\\'UCLA_Communication\\'/>\\n\\t\\t<input type=\\'hidden\\' name=\\'proxystylesheet\\' value=\\'UCLA_Communication\\'/>\\n\\t\\t<input type=\\'hidden\\' name=\\'output\\' value=\\'xml_no_dtd\\'/>\\n\\t\\t<label for=\"searchbox-input\" class=\"ada-hidden\">Search UCLA.edu</label>\\n\\t\\t<input id=\"searchbox-input\" class=\"google-search searchbox-background\" title=\"Search UCLA.edu\" name=\"q\" type=\"text\" size=\"20\"  maxlength=\"255\" value=\"\">\\n\\t\\t<button id=\"searchbox-btn\" type=\"submit\"><span class=\"ada-hidden\">Search</span></button>\\n\\t</form>\\n\\t</div>\\n\\n             <!-- Main Nav -->\\n            <div id=\"main-nav-wrapper\" role=\"navigation\"><ul id=\"main-nav\"><li><a href=\"/about\" class=\"dropdown-link\">ABOUT</a><ul class=\"dropdown-wrapper\" role=\"region\" aria-live=\"polite\">\\n\\t\\t\\t\\t\\t\\t\\t\\t<li><ul class=\"nav-column\"><li><a href=\"/about/\">Overview</a></li><li><a href=\"/about/chancellor\">Chancellor</a></li><li><a href=\"/about/leadership\">Leadership</a></li></ul><ul class=\"nav-column\"><li><a href=\"/about/mission-and-values\">Mission &amp; Values</a></li><li><a href=\"/about/facts-and-figures\">Facts &amp; Figures</a></li><li><a href=\"/about/awards-and-honors\">Awards &amp; Honors</a></li></ul><ul class=\"nav-column\"><li><a href=\"/about/history\">History</a></li><li><a href=\"/about/impact-and-accomplishments\">Impact &amp; Accomplishments</a></li><li><a href=\"/about/iconic-and-influential-alumni\">Iconic &amp; Influential Alumni</a></li></ul><ul class=\"nav-column\"><li><a href=\"/about/rankings\">Rankings</a></li><li><a href=\"/about/centers-and-institutes\">Centers &amp; Institutes</a></li><li><a href=\"/about/careers\">Careers</a></li></ul><a href=\"\" class=\"close\">Close (X)</a> \\n\\t\\t\\t\\t\\t\\t\\t\\t</li>\\n\\t\\t\\t\\t\\t\\t\\t </ul>\\n\\t\\t\\t\\t\\t\\t\\t</li>\\r<li><a href=\"/academics\" class=\"dropdown-link\">ACADEMICS</a><ul class=\"dropdown-wrapper\" role=\"region\" aria-live=\"polite\">\\n\\t\\t\\t\\t\\t\\t\\t\\t<li><ul class=\"nav-column\"><li><a href=\"/academics/\">Overview</a></li><li><a href=\"/academics/undergraduate-education\">Undergraduate Education</a></li><li><a href=\"/academics/graduate-and-professional-education\">Graduate &amp; Professional Education</a></li></ul><ul class=\"nav-column\"><li><a href=\"/academics/continuing-education\">Continuing Education</a></li><li><a href=\"/academics/academic-opportunities\">Academic Opportunities</a></li><li><a href=\"/academics/faculty\">Faculty</a></li></ul><ul class=\"nav-column\"><li><a href=\"/academics/departments-and-programs\">Departments &amp; Programs</a></li><li><a href=\"/academics/libraries\">Libraries</a></li></ul><a href=\"\" class=\"close\">Close (X)</a> \\n\\t\\t\\t\\t\\t\\t\\t\\t</li>\\n\\t\\t\\t\\t\\t\\t\\t </ul>\\n\\t\\t\\t\\t\\t\\t\\t</li>\\r<li><a href=\"/admission\" class=\"dropdown-link\">ADMISSION</a><ul class=\"dropdown-wrapper\" role=\"region\" aria-live=\"polite\">\\n\\t\\t\\t\\t\\t\\t\\t\\t<li><ul class=\"nav-column\"><li><a href=\"/admission/\">Admission Overview</a></li><li><a href=\"/admission/undergraduate-admission\">Undergraduate Admission</a></li><li><a href=\"/admission/graduate-admission\">Graduate Admission</a></li></ul><ul class=\"nav-column\"><li><a href=\"/admission/extension-enrollment\">Extension Enrollment</a></li><li><a href=\"/admission/international-admission\">International Admission</a></li><li><a href=\"/admission/transfer-admission\">Transfer Admission</a></li></ul><ul class=\"nav-column\"><li><a href=\"/admission/affordability\">Affordability &amp; Financial Aid</a></li></ul><a href=\"\" class=\"close\">Close (X)</a> \\n\\t\\t\\t\\t\\t\\t\\t\\t</li>\\n\\t\\t\\t\\t\\t\\t\\t </ul>\\n\\t\\t\\t\\t\\t\\t\\t</li>\\r<li><a href=\"/ucla-in-the-community\" class=\"dropdown-link\">UCLA IN THE COMMUNITY</a><ul class=\"dropdown-wrapper\" role=\"region\" aria-live=\"polite\">\\n\\t\\t\\t\\t\\t\\t\\t\\t<li><ul class=\"nav-column\"><li><a href=\"/ucla-in-the-community/\">Overview</a></li><li><a href=\"/ucla-in-the-community/community-programs-and-partnerships\">Community Programs &amp; Partnerships</a></li><li><a href=\"/ucla-in-the-community/k-12-education-programs-and-resources\">K-12 Education Programs &amp; Resources</a></li></ul><ul class=\"nav-column\"><li><a href=\"/ucla-in-the-community/academic-programs\">Academic Programs</a></li><li><a href=\"/ucla-in-the-community/health-care\">Health Care</a></li><li><a href=\"/ucla-in-the-community/arts-and-culture\">Arts &amp; Culture</a></li></ul><a href=\"\" class=\"close\">Close (X)</a> \\n\\t\\t\\t\\t\\t\\t\\t\\t</li>\\n\\t\\t\\t\\t\\t\\t\\t </ul>\\n\\t\\t\\t\\t\\t\\t\\t</li>\\r<li><a href=\"/the-arts\" class=\"dropdown-link\">THE ARTS</a><ul class=\"dropdown-wrapper\" role=\"region\" aria-live=\"polite\">\\n\\t\\t\\t\\t\\t\\t\\t\\t<li><ul class=\"nav-column\"><li><a href=\"/the-arts/\">Arts Overview</a></li><li><a href=\"/the-arts/school-of-the-arts-and-architecture\">School of the Arts and Architecture</a></li><li><a href=\"/the-arts/school-of-music\">Herb Alpert School of Music</a></li></ul><ul class=\"nav-column\"><li><a href=\"/the-arts/school-of-theater-film-and-television\">School of Theater, Film and Television</a></li><li><a href=\"/the-arts/performing-arts\">Performing Arts</a></li><li><a href=\"/the-arts/museums\">Museums</a></li></ul><ul class=\"nav-column\"><li><a href=\"/the-arts/arts-in-the-community\">Arts In The Community</a></li></ul><a href=\"\" class=\"close\">Close (X)</a> \\n\\t\\t\\t\\t\\t\\t\\t\\t</li>\\n\\t\\t\\t\\t\\t\\t\\t </ul>\\n\\t\\t\\t\\t\\t\\t\\t</li>\\r<li><a href=\"/campus-life\" class=\"dropdown-link\">CAMPUS LIFE</a><ul class=\"dropdown-wrapper\" role=\"region\" aria-live=\"polite\">\\n\\t\\t\\t\\t\\t\\t\\t\\t<li><ul class=\"nav-column\"><li><a href=\"/campus-life/\">Overview</a></li><li><a href=\"/campus-life/values\">Values</a></li><li><a href=\"/campus-life/housing-and-dining\">Housing &amp; Dining</a></li></ul><ul class=\"nav-column\"><li><a href=\"/campus-life/la-lifestyle\">LA Lifestyle</a></li><li><a href=\"/campus-life/health-and-safety\">Health &amp; Safety</a></li><li><a href=\"/campus-life/clubs-organizations-and-recreation\">Clubs, Organizations &amp; Recreation</a></li></ul><ul class=\"nav-column\"><li><a href=\"/campus-life/student-support\">Student Support</a></li></ul><a href=\"\" class=\"close\">Close (X)</a> \\n\\t\\t\\t\\t\\t\\t\\t\\t</li>\\n\\t\\t\\t\\t\\t\\t\\t </ul>\\n\\t\\t\\t\\t\\t\\t\\t</li>\\r<li><a href=\"/health-system\" class=\"dropdown-link\">HEALTH SYSTEM</a><ul class=\"dropdown-wrapper\" role=\"region\" aria-live=\"polite\">\\n\\t\\t\\t\\t\\t\\t\\t\\t<li><ul class=\"nav-column\"><li><a href=\"/health-system/\">Overview</a></li><li><a href=\"/health-system/for-patients\">For Patients</a></li><li><a href=\"/health-system/for-healthcare-professionals\">For Healthcare Professionals</a></li></ul><ul class=\"nav-column\"><li><a href=\"/health-system/education\">Education</a></li><li><a href=\"/health-system/continuing-education\">Continuing Education</a></li><li><a href=\"/health-system/giving-back-to-ucla\">Giving Back to UCLA</a></li></ul><a href=\"\" class=\"close\">Close (X)</a> \\n\\t\\t\\t\\t\\t\\t\\t\\t</li>\\n\\t\\t\\t\\t\\t\\t\\t </ul>\\n\\t\\t\\t\\t\\t\\t\\t</li>\\r<li><a href=\"/research\" class=\"dropdown-link\">RESEARCH</a><ul class=\"dropdown-wrapper\" role=\"region\" aria-live=\"polite\">\\n\\t\\t\\t\\t\\t\\t\\t\\t<li><ul class=\"nav-column\"><li><a href=\"/research/\">Overview</a></li><li><a href=\"/research/opportunities-for-partnerships\">Opportunities For Partnerships</a></li><li><a href=\"/research/undergraduate-research\">Undergraduate Research</a></li></ul><ul class=\"nav-column\"><li><a href=\"/research/graduate-research\">Graduate Research</a></li><li><a href=\"/research/research-centers-and-institutes\">Research Centers &amp; Institutes</a></li><li><a href=\"/research/libraries\">Libraries</a></li></ul><ul class=\"nav-column\"><li><a href=\"/research/administration-overview\">Administration Overview</a></li></ul><a href=\"\" class=\"close\">Close (X)</a> \\n\\t\\t\\t\\t\\t\\t\\t\\t</li>\\n\\t\\t\\t\\t\\t\\t\\t </ul>\\n\\t\\t\\t\\t\\t\\t\\t</li>\\r<li><a href=\"/athletics\">ATHLETICS</a></li>\\r</ul><div id=\"dropdown-spacer\"></div></div>\\n            <!-- Callout Nav -->\\n            <ul id=\"callout-nav\">\\n                <li><a href=\"/visit\" >Visit</a></li>\\n                <li><a href=\"/apply\" >Apply</a></li>\\n                <li id=\"callout-nav-give-now\"><a href=\"http://giveto.ucla.edu/?utm_campaign=Centennial+Campaign+Launch&utm_source=Gateway+Takeover&utm_medium=website&utm_content=Give+Now+Button\">Give<br/>Now</a></li>\\n            </ul>\\n        </div>\\n        \\n    </div>\\n    <!-- End Header Content -->\\n\\n</div>\\n<!-- End Header -->\\n<a id=\"let-there-be-flyout\" href=\"http://www.ucla.edu/optimists/?utm_campaign=optimists-fall-2017&utm_source=ucla.edu&utm_medium=affiliate&utm_content=flyout-banner\"><img src=\"/img/content-images/optimists-fa17-home-bug.png\" alt=\"What will you change? Make a better world. UCLA Optimists. Learn more\"></a>\\n\\t<!--TAKEOVER TOP -->\\n\\t<div class=\"takeover-top\">\\n\\t\\t<!--TAKEOVER BOTTOM-->\\n\\t\\t<div class=\"takeover-bottom\">\\n\\n\\n<!-- Container -->\\n<div id=\"container\">\\n\\n\\t<!-- Slideshow -->\\n\\t<div id=\"main-slideshow\">\\n\\t\\t<div class=\"flexslider\">\\n\\t\\t    <ul class=\"slides\">\\n\\t\\t    \\t\\n\\t\\t\\t\\t\\t\\t\\t\\t\\t<li>\\n\\t\\t\\t\\t\\t\\t<a href=\"http://ucla.in/2gJ641M\">\\n\\t\\t\\t\\t\\t\\t\\t<img src=\"/img/content-images/spotlight/1-optimist-090517.jpg\" alt=\"Harnessing the power of optimism\">\\n\\t\\t\\t\\t\\t\\t\\t<p class=\"flex-caption\">\\n\\t\\t\\t\\t\\t\\t\\t\\t<strong>AT UCLA, THE POSSIBILITIES ARE ENDLESS</strong><br/>\\n\\t\\t\\t\\t\\t\\t\\t\\t<span class=\"flex-caption-small\">UCLA OPTIMISTS STRIVE TO MAKE THE WORLD BETTER FOR EVERYONE.</span>\\t\\t\\t\\t\\t\\t\\t</p>\\n\\t\\t\\t\\t\\t\\t</a>\\n\\t\\t\\t\\t\\t</li>\\n\\t\\t\\t\\t\\t\\t\\t\\t\\t<li>\\n\\t\\t\\t\\t\\t\\t<a href=\"http://ucla.in/2xgqYMm\">\\n\\t\\t\\t\\t\\t\\t\\t<img src=\"/img/content-images/spotlight/2b-YIR.jpg\" alt=\"Year in Review\">\\n\\t\\t\\t\\t\\t\\t\\t<p class=\"flex-caption\">\\n\\t\\t\\t\\t\\t\\t\\t\\t<strong>A YEAR OF AMAZING ACCOMPLISHMENTS.</strong><br/>\\n\\t\\t\\t\\t\\t\\t\\t\\t<span class=\"flex-caption-small\">SEE EXAMPLES OF HOW UCLA MADE DARING LEAPS FORWARD IN 2016-17.</span>\\t\\t\\t\\t\\t\\t\\t</p>\\n\\t\\t\\t\\t\\t\\t</a>\\n\\t\\t\\t\\t\\t</li>\\n\\t\\t\\t\\t\\t\\t\\t\\t\\t<li>\\n\\t\\t\\t\\t\\t\\t<a href=\"http://ucla.in/2wqaSjQ\">\\n\\t\\t\\t\\t\\t\\t\\t<img src=\"/img/content-images/spotlight/3b-truebruinwelcome.jpg\" alt=\"True Bruin Welcome\">\\n\\t\\t\\t\\t\\t\\t\\t<p class=\"flex-caption\">\\n\\t\\t\\t\\t\\t\\t\\t\\t<strong>TRUE BRUIN WELCOME</strong><br/>\\n\\t\\t\\t\\t\\t\\t\\t\\t<span class=\"flex-caption-small\">A FUN-FILLED TRADITION FOR INCOMING STUDENTS.</span>\\t\\t\\t\\t\\t\\t\\t</p>\\n\\t\\t\\t\\t\\t\\t</a>\\n\\t\\t\\t\\t\\t</li>\\n\\t\\t\\t\\t\\t\\t\\t\\t\\t<li>\\n\\t\\t\\t\\t\\t\\t<a href=\"http://ucla.in/2eMCvsw\">\\n\\t\\t\\t\\t\\t\\t\\t<img src=\"/img/content-images/spotlight/4-marchingband2.jpg\" alt=\"Give to UCLA Bruin Marching Band\">\\n\\t\\t\\t\\t\\t\\t\\t<p class=\"flex-caption\">\\n\\t\\t\\t\\t\\t\\t\\t\\t<strong>KEEPING SPIRITS HIGH</strong><br/>\\n\\t\\t\\t\\t\\t\\t\\t\\t<span class=\"flex-caption-small\">SUPPORT THE UCLA BRUIN MARCHING BAND.</span>\\t\\t\\t\\t\\t\\t\\t</p>\\n\\t\\t\\t\\t\\t\\t</a>\\n\\t\\t\\t\\t\\t</li>\\n\\t\\t\\t\\t\\t\\t    </ul>\\n\\t\\t</div>\\n\\t\\t<div id=\"caption-box\"></div>\\n\\t</div>\\n\\t<!-- End Slideshow -->\\n\\n\\t<!-- Main -->\\n\\t<div id=\"main-content\" role=\"main\">\\n\\n\\t\\t<a href=\"http://www.ucla.edu/optimists/?utm_campaign=optimists-fall-2017&utm_source=ucla.edu&utm_medium=affiliate&utm_content=flyout-banner\">\\n\\t\\t\\t<img id=\"let-there-be\" src=\"/img/content-images/optimists-fa17-home-bug.png\" alt=\"What will you change? Make a better world. UCLA Optimists. Learn more\">\\n\\t\\t</a>\\n\\n\\t\\t<!-- Featured Stories -->\\n\\t\\t<div id=\"featured-stories\"><h3>Featured Stories</h3><div class=\"viewport\"><ul class=\"overview\"><li class=\"story\"><a href=\"http://ucla.in/2w88zOl\"><img src=\"/img/features/Justice Corps swearing-in.jpg\" alt=\"Swearing in ceremony\" class=\"photo\"><span class=\"title\">Justice for all Angelenos</span></a>\\n\\t\\t\\t\\t\\t<div class=\"text\">\\n\\t\\t\\t\\t\\t\\t<p>Students in JusticeCorps make sure people know their rights in court.</p> \\n\\t\\t\\t\\t\\t</div>\\n\\t\\t\\t\\t</li>\\n\\t\\t\\t\\t<li class=\"story\"><a href=\"http://ucla.in/2ycTzPD\"><img src=\"/img/features/move-in-2017-small.jpg\" alt=\"Move-in day\" class=\"photo\"><span class=\"title\">Welcome back, Bruins!</span></a>\\n\\t\\t\\t\\t\\t<div class=\"text\">\\n\\t\\t\\t\\t\\t\\t<p>New students have their choice of dozens of activities to begin the academic year</p> \\n\\t\\t\\t\\t\\t</div>\\n\\t\\t\\t\\t</li>\\n\\t\\t\\t\\t<li class=\"story\"><a href=\"http://ucla.in/2fvHIp5\"><img src=\"/img/features/PlacidoDomingo+by+Kaori+Suzuki_d722c813-b6f5-4cdc-a2e1-86bd36382558-prv.jpg\" alt=\"Placido Domingo\" class=\"photo\"><span class=\"title\">Placido Domingo to receive UCLA Medal</span></a>\\n\\t\\t\\t\\t\\t<div class=\"text\">\\n\\t\\t\\t\\t\\t\\t<p>Opera singer and conductor a powerful champion for the arts</p> \\n\\t\\t\\t\\t\\t</div>\\n\\t\\t\\t\\t</li>\\n\\t\\t\\t\\t</ul></div><div class=\"carousel-nav\"><span class=\"buttons prev disabled\" href=\"#\">Previous Featured Stories</span><span class=\"buttons next\" href=\"#\">Next Featured Stories</span></div></div>\\n\\t\\t<!-- Supporting Content -->\\n\\t\\t<div id=\"supporting-content\" class=\"clear-fix\">\\n\\t\\t\\t<div id=\"home-news\">\\n\\t\\t\\t\\t<h3>Newsroom</h3>\\n\\t\\t\\t\\t<ul>\\r<li>\\n\\t\\t\\t\\t\\t\\t\\t\\t   <a href=\"http://newsroom.ucla.edu/releases/wall-street-journaltimes-higher-education-rank-ucla-no-1-public-university\">Wall Street Journal/Times Higher Education rank UCLA No. 1 public university</a>\\n\\t\\t\\t\\t\\t\\t\\t\\t </li>\\r<li>\\n\\t\\t\\t\\t\\t\\t\\t\\t   <a href=\"http://newsroom.ucla.edu/releases/2-million-gift-from-alumnus-establishes-ucla-faculty-chairs-chemistry-and-biochemistry\">$2 million gift from alumnus establishes UCLA faculty chairs in chemistry and biochemistry</a>\\n\\t\\t\\t\\t\\t\\t\\t\\t </li>\\r<li>\\n\\t\\t\\t\\t\\t\\t\\t\\t   <a href=\"http://newsroom.ucla.edu/releases/ucla-anderson-forecast-expects-modest-growth-and-some-disruptions\">Anderson Forecast expects modest growth and some disruptions</a>\\n\\t\\t\\t\\t\\t\\t\\t\\t </li>\\r<li>\\n\\t\\t\\t\\t\\t\\t\\t\\t   <a href=\"http://newsroom.ucla.edu/releases/conference-at-ucla-explores-the-significance-of-american-jewish-music-and-its-reach\">Conference to explore American Jewish music and its reach</a>\\n\\t\\t\\t\\t\\t\\t\\t\\t </li>\\r<li>\\n\\t\\t\\t\\t\\t\\t\\t\\t   <a href=\"http://newsroom.ucla.edu/releases/8-3-million-grant-from-national-science-foundation-will-help-ucla-spread-technology-behind-mini-microscope\">$8.3 million grant will help UCLA spread technology behind mini microscope</a>\\n\\t\\t\\t\\t\\t\\t\\t\\t </li>\\r<li>\\n\\t\\t\\t\\t\\t\\t\\t\\t   <a href=\"http://newsroom.ucla.edu/stories/chancellor-draws-on-personal-story-focuses-on-diverse-ideas-in-welcome-address\">Chancellor draws on personal story, focuses on diverse ideas in welcome address</a>\\n\\t\\t\\t\\t\\t\\t\\t\\t </li>\\r</ul>\\n\\t\\t\\t\\t<a href=\"http://newsroom.ucla.edu/\" class=\"bullet\">Enter Newsroom</a>\\n\\t\\t\\t</div>\\n\\t\\t\\t<div id=\"home-events\">\\n\\t\\t\\t\\t<h3>Happenings</h3>\\n\\t\\t\\t\\t<ul>\\r\\n\\t\\t\\t\\t\\t <li>\\n\\t\\t\\t\\t\\t\\t<a href=\"http://happenings.ucla.edu/all/event/233602\"><img src=\"/img/happenings/2614-scroller.jpg\" alt=\"\" width=\"216\" />\\n\\t\\t\\t\\t\\t\\tTODAY: Football vs. Colorado</a>\\n\\t\\t\\t\\t\\t </li>\\r\\n\\t\\t\\t\\t\\t <li>\\n\\t\\t\\t\\t\\t\\t<a href=\"http://happenings.ucla.edu/all/event/243014\"><img src=\"/img/happenings/2611-scroller.jpg\" alt=\"\" width=\"216\" />\\n\\t\\t\\t\\t\\t\\tTODAY: Eclipse de sol & El cura Lorenzo</a>\\n\\t\\t\\t\\t\\t </li>\\r\\n\\t\\t\\t\\t\\t <li>\\n\\t\\t\\t\\t\\t\\t<a href=\"http://happenings.ucla.edu/all/event/242566\"><img src=\"/img/happenings/2608-scroller.jpg\" alt=\"\" width=\"216\" />\\n\\t\\t\\t\\t\\t\\t10/01  826LA@Hammer: Radical, Magical Women</a>\\n\\t\\t\\t\\t\\t </li>\\r</ul>\\r\\t\\t\\t\\t<a href=\"http://happenings.ucla.edu/\" class=\"bullet\">Enter Happenings</a>\\n\\t\\t\\t</div>\\n\\t\\t\\t<div id=\"home-social-media\" class=\"end\">\\n\\t\\t\\t\\t<h3>Connect with UCLA</h3>\\n\\t\\t\\t\\t<ul>\\n\\t\\t\\t\\t\\t<li><a href=\"http://www.facebook.com/uclabruins\"><span class=\"facebook\"></span>Facebook</a></li>\\n\\t\\t\\t\\t\\t<li><a href=\"http://twitter.com/ucla\"><span class=\"twitter\"></span>Twitter</a></li>\\n\\t\\t\\t\\t\\t<li><a href=\"http://www.instagram.com/ucla\"><span class=\"instagram\"></span>Instagram</a></li>\\n\\t\\t\\t\\t\\t<li><a href=\"https://www.snapchat.com/add/uclaofficial\"><span class=\"snapchat\"></span>Snapchat</a></li>\\n\\t\\t\\t\\t\\t<li><a href=\"https://www.linkedin.com/company/ucla\"><span class=\"linkedin\"></span>LinkedIn</a></li>\\n\\t\\t\\t\\t\\t<li><a href=\"https://www.youtube.com/user/UCLA\"><span class=\"youtube\"></span>YouTube</a></li>\\n\\t\\t\\t\\t</ul>\\n\\t\\t\\t</div>\\n\\t\\t</div>\\n\\t\\t<!-- End Supporting Content -->\\n\\t</div>\\n\\t<!-- End Main -->\\n\\n\\t\\t<a href=\"http://www.ucla.edu/optimists/?utm_campaign=optimists-fall-2017&utm_source=ucla.edu&utm_medium=affiliate&utm_content=rotating-banner&utm_size=920x100\"><img id=\"centennial-campaign-banner-920\" src=\"/img/content-images/optimists-fa17-banner-920.gif\" alt=\"Optimism makes no excuses. Optimism always finds a way. Powered by optimism. Explore How\"></a>\\n\\n\\t\\t<a href=\"http://www.ucla.edu/optimists/?utm_campaign=optimists-fall-2017&utm_source=ucla.edu&utm_medium=affiliate&utm_content=rotating-banner&utm_size=300x250\"><img id=\"centennial-campaign-banner-300\" src=\"/img/content-images/optimists-fa17-banner-300.gif\" alt=\"Optimism makes no excuses. Optimism always finds a way. Powered by optimism. Explore How\"></a>\\n\\n\\n</div>\\n<!-- End Container -->\\n\\n\\t\\t<div id=\"footer-push\"></div>\\n\\n\\t</div> <!--TAKEOVER BOTTOM END--> </div> <!--TAKEOVER TOP END-->\\n\\n\\n\\n\\n</div>\\n<!-- End Page Wrap -->\\n\\n<!-- social media -->\\n<div id=\"social-media\">\\n    <a href=\"http://www.facebook.com/uclabruins\" class=\"facebook\"><span>UCLA on Facebook</span></a>\\n    <a href=\"http://twitter.com/ucla\" class=\"twitter\"><span>UCLA on Twitter</span></a>\\n\\t  <a href=\"http://www.instagram.com/ucla\" class=\"instagram\"><span>UCLA on Instagram</span></a>\\n    <a href=\"https://www.snapchat.com/add/uclaofficial\" class=\"snapchat\"><span>UCLA on Snapchat</span></a>\\n\\t  <a href=\"https://www.linkedin.com/company/ucla\" class=\"linkedin\"><span>UCLA on LinkedIn</span></a>\\n    <a href=\"https://www.youtube.com/user/UCLA\" class=\"youtube\"><span>UCLA on YouTube</span></a>\\n</div>\\n\\n<!-- Footer -->\\n<div id=\"footer\" class=\"footer\">\\n    <div id=\"footer-content\">\\n      <div class=\"footer-wrapper\">\\n\\n      \\n        <div class=\"other-links\">\\n          <div class=\"wrapper\">\\n            <div class=\"row-fluid\">\\n              <div class=\"span-2\">\\n                <a class=\"ucla-logo\" href=\"/\">\\n                  <p class=\"ucla-logo-white\"><span class=\"ada-hidden\">UCLA.edu Homepage</span></p>\\n                </a>\\n              </div>\\n\\n\\n              <div class=\"span-2 footer-nav\">\\n                <em class=\"column-header\">Information</em>\\n                <ul class=\"footer-nav-links\">\\n                  <li>\\n                    <a href=\"/about/careers\" class=\"text-link\">\\n                      <span>Careers</span>\\n                    </a>\\n                  </li>\\n                  <li>\\n                    <a href=\"http://www.directory.ucla.edu/\" class=\"text-link\">\\n                      <span>Directory</span>\\n                    </a>\\n                  </li>\\n\\t\\t\\t\\t  <li>\\n                    <a href=\"/contact\" class=\"text-link\">\\n                      <span>Contact</span>\\n                    </a>\\n                  </li>\\n\\t\\t\\t\\t  <li>\\n                    <a href=\"http://www.registrar.ucla.edu/Calendars/Overview\" class=\"text-link\">\\n                      <span>Academic Calendar</span>\\n                    </a>\\n                  </li>\\n                  <li>\\n                    <a href=\"/maps-directions-parking/\" class=\"text-link\">\\n                      <span>Maps, Directions</span>\\n                    </a>\\n                  </li>\\n                  <li>\\n                    <a href=\"https://main.transportation.ucla.edu/campus-parking\" class=\"text-link\">\\n                      <span>Parking &amp; Transportation</span>\\n                    </a>\\n                  </li>\\n\\n\\t\\t\\t\\t  <li>\\n                    <a href=\"https://www.emergency.ucla.edu/\" class=\"text-link\">\\n                      <span>Emergency</span>\\n                    </a>\\n                  </li>\\n                </ul>\\n              </div>\\n\\n              <div class=\"span-2 get-involved\">\\n                <em class=\"column-header\">Campus Values</em>\\n                <ul class=\"get-involved-links\">\\n                  <li>\\n                    <a href=\"https://equity.ucla.edu/\" class=\"text-link\">\\n                      <span>Equity, Diversity &amp; Inclusion</span>\\n                    </a>\\n                  </li>\\n                  <li>\\n                    <a href=\"http://www.sustain.ucla.edu/\" class=\"text-link\">\\n                      <span>Sustainability</span>\\n                    </a>\\n                  </li>\\n                  <li>\\n                    <a href=\"http://www.truebruin.ucla.edu/\" class=\"text-link\">\\n                      <span>True Bruin Statement</span>\\n                    </a>\\n                  </li>\\n                  <li>\\n                    <a href=\"http://volunteer.ucla.edu/\" class=\"text-link\">\\n                      <span>Volunteerism</span>\\n                    </a>\\n                  </li>\\n                </ul>\\n              </div>\\n\\n              <div class=\"span-2 stay-informed\">\\n                <em class=\"column-header\">Event Venues</em>\\n                <ul class=\"stay-informed-links\">\\n                  <li>\\n                    <a href=\"http://luskinconferencecenter.ucla.edu\" class=\"text-link\">\\n                      <span>Luskin Conference Center</span>\\n                    </a>\\n                  </li>\\n                  <li>\\n                    <a href=\"https://www.events.ucla.edu/\" class=\"text-link\">\\n                      <span>Event Planning</span>\\n                    </a>\\n                  </li>\\n\\t\\t\\t\\t  <li>\\n                    <a href=\"http://uclaevents.com/filming-and-photography/\" class=\"text-link\">\\n                      <span>Film Production</span>\\n                    </a>\\n                  </li>\\n                </ul>\\n              </div>\\n            </div>\\n          </div>\\n        </div>\\n\\n        <div class=\"legal\">\\n          <div class=\"wrapper\">\\n            <span class=\"copyright\">&copy;2017 Regents of the <a href=\"http://www.universityofcalifornia.edu\">University of California</a></span>\\n            <a class=\"terms\" href=\"/terms-of-use\">Terms of Use</a>\\n          </div>\\n        </div>\\n\\n      \\n      </div>\\n    </div>\\n</div>\\n<!-- End Footer -->\\n\\n<!-- Scripts -->\\n<script src=\"/js/respond.js\"></script>\\n<script src=\"/js/plugins.js\"></script>\\n<script src=\"/js/global.js\"></script>\\n<script src=\"/js/responsive.js\"></script>\\n<script src=\"/js/search.js\"></script>\\n\\n</body>\\n</html>\\n'"
      ]
     },
     "execution_count": 21,
     "metadata": {},
     "output_type": "execute_result"
    }
   ],
   "source": [
    "html"
   ]
  },
  {
   "cell_type": "code",
   "execution_count": 22,
   "metadata": {
    "collapsed": true
   },
   "outputs": [],
   "source": [
    "soup = BeautifulSoup(html, \"html5lib\")"
   ]
  },
  {
   "cell_type": "code",
   "execution_count": 23,
   "metadata": {},
   "outputs": [
    {
     "data": {
      "text/plain": [
       "<li><a href=\"/students/prospective-students\">Prospective Students</a></li>"
      ]
     },
     "execution_count": 23,
     "metadata": {},
     "output_type": "execute_result"
    }
   ],
   "source": [
    "# find the first occurance of \"li\"\n",
    "\n",
    "soup.find('li')"
   ]
  },
  {
   "cell_type": "code",
   "execution_count": 24,
   "metadata": {},
   "outputs": [
    {
     "data": {
      "text/plain": [
       "bs4.element.Tag"
      ]
     },
     "execution_count": 24,
     "metadata": {},
     "output_type": "execute_result"
    }
   ],
   "source": [
    "# check the type\n",
    "\n",
    "type(soup.find('li'))"
   ]
  },
  {
   "cell_type": "code",
   "execution_count": 25,
   "metadata": {},
   "outputs": [
    {
     "data": {
      "text/plain": [
       "[<li><a href=\"/students/prospective-students\">Prospective Students</a></li>,\n",
       " <li><a href=\"/students/current-students\">Current Students</a></li>,\n",
       " <li><a href=\"/faculty\">Faculty</a></li>,\n",
       " <li><a href=\"/staff\">Staff</a></li>,\n",
       " <li><a href=\"/alumni\">Alumni</a></li>,\n",
       " <li><a href=\"/parents-and-families\">Parents &amp; Families</a></li>,\n",
       " <li><a class=\"dropdown-link\" href=\"/about\">ABOUT</a><ul aria-live=\"polite\" class=\"dropdown-wrapper\" role=\"region\">\n",
       " \t\t\t\t\t\t\t\t<li><ul class=\"nav-column\"><li><a href=\"/about/\">Overview</a></li><li><a href=\"/about/chancellor\">Chancellor</a></li><li><a href=\"/about/leadership\">Leadership</a></li></ul><ul class=\"nav-column\"><li><a href=\"/about/mission-and-values\">Mission &amp; Values</a></li><li><a href=\"/about/facts-and-figures\">Facts &amp; Figures</a></li><li><a href=\"/about/awards-and-honors\">Awards &amp; Honors</a></li></ul><ul class=\"nav-column\"><li><a href=\"/about/history\">History</a></li><li><a href=\"/about/impact-and-accomplishments\">Impact &amp; Accomplishments</a></li><li><a href=\"/about/iconic-and-influential-alumni\">Iconic &amp; Influential Alumni</a></li></ul><ul class=\"nav-column\"><li><a href=\"/about/rankings\">Rankings</a></li><li><a href=\"/about/centers-and-institutes\">Centers &amp; Institutes</a></li><li><a href=\"/about/careers\">Careers</a></li></ul><a class=\"close\" href=\"\">Close (X)</a> \n",
       " \t\t\t\t\t\t\t\t</li>\n",
       " \t\t\t\t\t\t\t </ul>\n",
       " \t\t\t\t\t\t\t</li>,\n",
       " <li><ul class=\"nav-column\"><li><a href=\"/about/\">Overview</a></li><li><a href=\"/about/chancellor\">Chancellor</a></li><li><a href=\"/about/leadership\">Leadership</a></li></ul><ul class=\"nav-column\"><li><a href=\"/about/mission-and-values\">Mission &amp; Values</a></li><li><a href=\"/about/facts-and-figures\">Facts &amp; Figures</a></li><li><a href=\"/about/awards-and-honors\">Awards &amp; Honors</a></li></ul><ul class=\"nav-column\"><li><a href=\"/about/history\">History</a></li><li><a href=\"/about/impact-and-accomplishments\">Impact &amp; Accomplishments</a></li><li><a href=\"/about/iconic-and-influential-alumni\">Iconic &amp; Influential Alumni</a></li></ul><ul class=\"nav-column\"><li><a href=\"/about/rankings\">Rankings</a></li><li><a href=\"/about/centers-and-institutes\">Centers &amp; Institutes</a></li><li><a href=\"/about/careers\">Careers</a></li></ul><a class=\"close\" href=\"\">Close (X)</a> \n",
       " \t\t\t\t\t\t\t\t</li>,\n",
       " <li><a href=\"/about/\">Overview</a></li>,\n",
       " <li><a href=\"/about/chancellor\">Chancellor</a></li>,\n",
       " <li><a href=\"/about/leadership\">Leadership</a></li>,\n",
       " <li><a href=\"/about/mission-and-values\">Mission &amp; Values</a></li>,\n",
       " <li><a href=\"/about/facts-and-figures\">Facts &amp; Figures</a></li>,\n",
       " <li><a href=\"/about/awards-and-honors\">Awards &amp; Honors</a></li>,\n",
       " <li><a href=\"/about/history\">History</a></li>,\n",
       " <li><a href=\"/about/impact-and-accomplishments\">Impact &amp; Accomplishments</a></li>,\n",
       " <li><a href=\"/about/iconic-and-influential-alumni\">Iconic &amp; Influential Alumni</a></li>,\n",
       " <li><a href=\"/about/rankings\">Rankings</a></li>,\n",
       " <li><a href=\"/about/centers-and-institutes\">Centers &amp; Institutes</a></li>,\n",
       " <li><a href=\"/about/careers\">Careers</a></li>,\n",
       " <li><a class=\"dropdown-link\" href=\"/academics\">ACADEMICS</a><ul aria-live=\"polite\" class=\"dropdown-wrapper\" role=\"region\">\n",
       " \t\t\t\t\t\t\t\t<li><ul class=\"nav-column\"><li><a href=\"/academics/\">Overview</a></li><li><a href=\"/academics/undergraduate-education\">Undergraduate Education</a></li><li><a href=\"/academics/graduate-and-professional-education\">Graduate &amp; Professional Education</a></li></ul><ul class=\"nav-column\"><li><a href=\"/academics/continuing-education\">Continuing Education</a></li><li><a href=\"/academics/academic-opportunities\">Academic Opportunities</a></li><li><a href=\"/academics/faculty\">Faculty</a></li></ul><ul class=\"nav-column\"><li><a href=\"/academics/departments-and-programs\">Departments &amp; Programs</a></li><li><a href=\"/academics/libraries\">Libraries</a></li></ul><a class=\"close\" href=\"\">Close (X)</a> \n",
       " \t\t\t\t\t\t\t\t</li>\n",
       " \t\t\t\t\t\t\t </ul>\n",
       " \t\t\t\t\t\t\t</li>,\n",
       " <li><ul class=\"nav-column\"><li><a href=\"/academics/\">Overview</a></li><li><a href=\"/academics/undergraduate-education\">Undergraduate Education</a></li><li><a href=\"/academics/graduate-and-professional-education\">Graduate &amp; Professional Education</a></li></ul><ul class=\"nav-column\"><li><a href=\"/academics/continuing-education\">Continuing Education</a></li><li><a href=\"/academics/academic-opportunities\">Academic Opportunities</a></li><li><a href=\"/academics/faculty\">Faculty</a></li></ul><ul class=\"nav-column\"><li><a href=\"/academics/departments-and-programs\">Departments &amp; Programs</a></li><li><a href=\"/academics/libraries\">Libraries</a></li></ul><a class=\"close\" href=\"\">Close (X)</a> \n",
       " \t\t\t\t\t\t\t\t</li>,\n",
       " <li><a href=\"/academics/\">Overview</a></li>,\n",
       " <li><a href=\"/academics/undergraduate-education\">Undergraduate Education</a></li>,\n",
       " <li><a href=\"/academics/graduate-and-professional-education\">Graduate &amp; Professional Education</a></li>,\n",
       " <li><a href=\"/academics/continuing-education\">Continuing Education</a></li>,\n",
       " <li><a href=\"/academics/academic-opportunities\">Academic Opportunities</a></li>,\n",
       " <li><a href=\"/academics/faculty\">Faculty</a></li>,\n",
       " <li><a href=\"/academics/departments-and-programs\">Departments &amp; Programs</a></li>,\n",
       " <li><a href=\"/academics/libraries\">Libraries</a></li>,\n",
       " <li><a class=\"dropdown-link\" href=\"/admission\">ADMISSION</a><ul aria-live=\"polite\" class=\"dropdown-wrapper\" role=\"region\">\n",
       " \t\t\t\t\t\t\t\t<li><ul class=\"nav-column\"><li><a href=\"/admission/\">Admission Overview</a></li><li><a href=\"/admission/undergraduate-admission\">Undergraduate Admission</a></li><li><a href=\"/admission/graduate-admission\">Graduate Admission</a></li></ul><ul class=\"nav-column\"><li><a href=\"/admission/extension-enrollment\">Extension Enrollment</a></li><li><a href=\"/admission/international-admission\">International Admission</a></li><li><a href=\"/admission/transfer-admission\">Transfer Admission</a></li></ul><ul class=\"nav-column\"><li><a href=\"/admission/affordability\">Affordability &amp; Financial Aid</a></li></ul><a class=\"close\" href=\"\">Close (X)</a> \n",
       " \t\t\t\t\t\t\t\t</li>\n",
       " \t\t\t\t\t\t\t </ul>\n",
       " \t\t\t\t\t\t\t</li>,\n",
       " <li><ul class=\"nav-column\"><li><a href=\"/admission/\">Admission Overview</a></li><li><a href=\"/admission/undergraduate-admission\">Undergraduate Admission</a></li><li><a href=\"/admission/graduate-admission\">Graduate Admission</a></li></ul><ul class=\"nav-column\"><li><a href=\"/admission/extension-enrollment\">Extension Enrollment</a></li><li><a href=\"/admission/international-admission\">International Admission</a></li><li><a href=\"/admission/transfer-admission\">Transfer Admission</a></li></ul><ul class=\"nav-column\"><li><a href=\"/admission/affordability\">Affordability &amp; Financial Aid</a></li></ul><a class=\"close\" href=\"\">Close (X)</a> \n",
       " \t\t\t\t\t\t\t\t</li>,\n",
       " <li><a href=\"/admission/\">Admission Overview</a></li>,\n",
       " <li><a href=\"/admission/undergraduate-admission\">Undergraduate Admission</a></li>,\n",
       " <li><a href=\"/admission/graduate-admission\">Graduate Admission</a></li>,\n",
       " <li><a href=\"/admission/extension-enrollment\">Extension Enrollment</a></li>,\n",
       " <li><a href=\"/admission/international-admission\">International Admission</a></li>,\n",
       " <li><a href=\"/admission/transfer-admission\">Transfer Admission</a></li>,\n",
       " <li><a href=\"/admission/affordability\">Affordability &amp; Financial Aid</a></li>,\n",
       " <li><a class=\"dropdown-link\" href=\"/ucla-in-the-community\">UCLA IN THE COMMUNITY</a><ul aria-live=\"polite\" class=\"dropdown-wrapper\" role=\"region\">\n",
       " \t\t\t\t\t\t\t\t<li><ul class=\"nav-column\"><li><a href=\"/ucla-in-the-community/\">Overview</a></li><li><a href=\"/ucla-in-the-community/community-programs-and-partnerships\">Community Programs &amp; Partnerships</a></li><li><a href=\"/ucla-in-the-community/k-12-education-programs-and-resources\">K-12 Education Programs &amp; Resources</a></li></ul><ul class=\"nav-column\"><li><a href=\"/ucla-in-the-community/academic-programs\">Academic Programs</a></li><li><a href=\"/ucla-in-the-community/health-care\">Health Care</a></li><li><a href=\"/ucla-in-the-community/arts-and-culture\">Arts &amp; Culture</a></li></ul><a class=\"close\" href=\"\">Close (X)</a> \n",
       " \t\t\t\t\t\t\t\t</li>\n",
       " \t\t\t\t\t\t\t </ul>\n",
       " \t\t\t\t\t\t\t</li>,\n",
       " <li><ul class=\"nav-column\"><li><a href=\"/ucla-in-the-community/\">Overview</a></li><li><a href=\"/ucla-in-the-community/community-programs-and-partnerships\">Community Programs &amp; Partnerships</a></li><li><a href=\"/ucla-in-the-community/k-12-education-programs-and-resources\">K-12 Education Programs &amp; Resources</a></li></ul><ul class=\"nav-column\"><li><a href=\"/ucla-in-the-community/academic-programs\">Academic Programs</a></li><li><a href=\"/ucla-in-the-community/health-care\">Health Care</a></li><li><a href=\"/ucla-in-the-community/arts-and-culture\">Arts &amp; Culture</a></li></ul><a class=\"close\" href=\"\">Close (X)</a> \n",
       " \t\t\t\t\t\t\t\t</li>,\n",
       " <li><a href=\"/ucla-in-the-community/\">Overview</a></li>,\n",
       " <li><a href=\"/ucla-in-the-community/community-programs-and-partnerships\">Community Programs &amp; Partnerships</a></li>,\n",
       " <li><a href=\"/ucla-in-the-community/k-12-education-programs-and-resources\">K-12 Education Programs &amp; Resources</a></li>,\n",
       " <li><a href=\"/ucla-in-the-community/academic-programs\">Academic Programs</a></li>,\n",
       " <li><a href=\"/ucla-in-the-community/health-care\">Health Care</a></li>,\n",
       " <li><a href=\"/ucla-in-the-community/arts-and-culture\">Arts &amp; Culture</a></li>,\n",
       " <li><a class=\"dropdown-link\" href=\"/the-arts\">THE ARTS</a><ul aria-live=\"polite\" class=\"dropdown-wrapper\" role=\"region\">\n",
       " \t\t\t\t\t\t\t\t<li><ul class=\"nav-column\"><li><a href=\"/the-arts/\">Arts Overview</a></li><li><a href=\"/the-arts/school-of-the-arts-and-architecture\">School of the Arts and Architecture</a></li><li><a href=\"/the-arts/school-of-music\">Herb Alpert School of Music</a></li></ul><ul class=\"nav-column\"><li><a href=\"/the-arts/school-of-theater-film-and-television\">School of Theater, Film and Television</a></li><li><a href=\"/the-arts/performing-arts\">Performing Arts</a></li><li><a href=\"/the-arts/museums\">Museums</a></li></ul><ul class=\"nav-column\"><li><a href=\"/the-arts/arts-in-the-community\">Arts In The Community</a></li></ul><a class=\"close\" href=\"\">Close (X)</a> \n",
       " \t\t\t\t\t\t\t\t</li>\n",
       " \t\t\t\t\t\t\t </ul>\n",
       " \t\t\t\t\t\t\t</li>,\n",
       " <li><ul class=\"nav-column\"><li><a href=\"/the-arts/\">Arts Overview</a></li><li><a href=\"/the-arts/school-of-the-arts-and-architecture\">School of the Arts and Architecture</a></li><li><a href=\"/the-arts/school-of-music\">Herb Alpert School of Music</a></li></ul><ul class=\"nav-column\"><li><a href=\"/the-arts/school-of-theater-film-and-television\">School of Theater, Film and Television</a></li><li><a href=\"/the-arts/performing-arts\">Performing Arts</a></li><li><a href=\"/the-arts/museums\">Museums</a></li></ul><ul class=\"nav-column\"><li><a href=\"/the-arts/arts-in-the-community\">Arts In The Community</a></li></ul><a class=\"close\" href=\"\">Close (X)</a> \n",
       " \t\t\t\t\t\t\t\t</li>,\n",
       " <li><a href=\"/the-arts/\">Arts Overview</a></li>,\n",
       " <li><a href=\"/the-arts/school-of-the-arts-and-architecture\">School of the Arts and Architecture</a></li>,\n",
       " <li><a href=\"/the-arts/school-of-music\">Herb Alpert School of Music</a></li>,\n",
       " <li><a href=\"/the-arts/school-of-theater-film-and-television\">School of Theater, Film and Television</a></li>,\n",
       " <li><a href=\"/the-arts/performing-arts\">Performing Arts</a></li>,\n",
       " <li><a href=\"/the-arts/museums\">Museums</a></li>,\n",
       " <li><a href=\"/the-arts/arts-in-the-community\">Arts In The Community</a></li>,\n",
       " <li><a class=\"dropdown-link\" href=\"/campus-life\">CAMPUS LIFE</a><ul aria-live=\"polite\" class=\"dropdown-wrapper\" role=\"region\">\n",
       " \t\t\t\t\t\t\t\t<li><ul class=\"nav-column\"><li><a href=\"/campus-life/\">Overview</a></li><li><a href=\"/campus-life/values\">Values</a></li><li><a href=\"/campus-life/housing-and-dining\">Housing &amp; Dining</a></li></ul><ul class=\"nav-column\"><li><a href=\"/campus-life/la-lifestyle\">LA Lifestyle</a></li><li><a href=\"/campus-life/health-and-safety\">Health &amp; Safety</a></li><li><a href=\"/campus-life/clubs-organizations-and-recreation\">Clubs, Organizations &amp; Recreation</a></li></ul><ul class=\"nav-column\"><li><a href=\"/campus-life/student-support\">Student Support</a></li></ul><a class=\"close\" href=\"\">Close (X)</a> \n",
       " \t\t\t\t\t\t\t\t</li>\n",
       " \t\t\t\t\t\t\t </ul>\n",
       " \t\t\t\t\t\t\t</li>,\n",
       " <li><ul class=\"nav-column\"><li><a href=\"/campus-life/\">Overview</a></li><li><a href=\"/campus-life/values\">Values</a></li><li><a href=\"/campus-life/housing-and-dining\">Housing &amp; Dining</a></li></ul><ul class=\"nav-column\"><li><a href=\"/campus-life/la-lifestyle\">LA Lifestyle</a></li><li><a href=\"/campus-life/health-and-safety\">Health &amp; Safety</a></li><li><a href=\"/campus-life/clubs-organizations-and-recreation\">Clubs, Organizations &amp; Recreation</a></li></ul><ul class=\"nav-column\"><li><a href=\"/campus-life/student-support\">Student Support</a></li></ul><a class=\"close\" href=\"\">Close (X)</a> \n",
       " \t\t\t\t\t\t\t\t</li>,\n",
       " <li><a href=\"/campus-life/\">Overview</a></li>,\n",
       " <li><a href=\"/campus-life/values\">Values</a></li>,\n",
       " <li><a href=\"/campus-life/housing-and-dining\">Housing &amp; Dining</a></li>,\n",
       " <li><a href=\"/campus-life/la-lifestyle\">LA Lifestyle</a></li>,\n",
       " <li><a href=\"/campus-life/health-and-safety\">Health &amp; Safety</a></li>,\n",
       " <li><a href=\"/campus-life/clubs-organizations-and-recreation\">Clubs, Organizations &amp; Recreation</a></li>,\n",
       " <li><a href=\"/campus-life/student-support\">Student Support</a></li>,\n",
       " <li><a class=\"dropdown-link\" href=\"/health-system\">HEALTH SYSTEM</a><ul aria-live=\"polite\" class=\"dropdown-wrapper\" role=\"region\">\n",
       " \t\t\t\t\t\t\t\t<li><ul class=\"nav-column\"><li><a href=\"/health-system/\">Overview</a></li><li><a href=\"/health-system/for-patients\">For Patients</a></li><li><a href=\"/health-system/for-healthcare-professionals\">For Healthcare Professionals</a></li></ul><ul class=\"nav-column\"><li><a href=\"/health-system/education\">Education</a></li><li><a href=\"/health-system/continuing-education\">Continuing Education</a></li><li><a href=\"/health-system/giving-back-to-ucla\">Giving Back to UCLA</a></li></ul><a class=\"close\" href=\"\">Close (X)</a> \n",
       " \t\t\t\t\t\t\t\t</li>\n",
       " \t\t\t\t\t\t\t </ul>\n",
       " \t\t\t\t\t\t\t</li>,\n",
       " <li><ul class=\"nav-column\"><li><a href=\"/health-system/\">Overview</a></li><li><a href=\"/health-system/for-patients\">For Patients</a></li><li><a href=\"/health-system/for-healthcare-professionals\">For Healthcare Professionals</a></li></ul><ul class=\"nav-column\"><li><a href=\"/health-system/education\">Education</a></li><li><a href=\"/health-system/continuing-education\">Continuing Education</a></li><li><a href=\"/health-system/giving-back-to-ucla\">Giving Back to UCLA</a></li></ul><a class=\"close\" href=\"\">Close (X)</a> \n",
       " \t\t\t\t\t\t\t\t</li>,\n",
       " <li><a href=\"/health-system/\">Overview</a></li>,\n",
       " <li><a href=\"/health-system/for-patients\">For Patients</a></li>,\n",
       " <li><a href=\"/health-system/for-healthcare-professionals\">For Healthcare Professionals</a></li>,\n",
       " <li><a href=\"/health-system/education\">Education</a></li>,\n",
       " <li><a href=\"/health-system/continuing-education\">Continuing Education</a></li>,\n",
       " <li><a href=\"/health-system/giving-back-to-ucla\">Giving Back to UCLA</a></li>,\n",
       " <li><a class=\"dropdown-link\" href=\"/research\">RESEARCH</a><ul aria-live=\"polite\" class=\"dropdown-wrapper\" role=\"region\">\n",
       " \t\t\t\t\t\t\t\t<li><ul class=\"nav-column\"><li><a href=\"/research/\">Overview</a></li><li><a href=\"/research/opportunities-for-partnerships\">Opportunities For Partnerships</a></li><li><a href=\"/research/undergraduate-research\">Undergraduate Research</a></li></ul><ul class=\"nav-column\"><li><a href=\"/research/graduate-research\">Graduate Research</a></li><li><a href=\"/research/research-centers-and-institutes\">Research Centers &amp; Institutes</a></li><li><a href=\"/research/libraries\">Libraries</a></li></ul><ul class=\"nav-column\"><li><a href=\"/research/administration-overview\">Administration Overview</a></li></ul><a class=\"close\" href=\"\">Close (X)</a> \n",
       " \t\t\t\t\t\t\t\t</li>\n",
       " \t\t\t\t\t\t\t </ul>\n",
       " \t\t\t\t\t\t\t</li>,\n",
       " <li><ul class=\"nav-column\"><li><a href=\"/research/\">Overview</a></li><li><a href=\"/research/opportunities-for-partnerships\">Opportunities For Partnerships</a></li><li><a href=\"/research/undergraduate-research\">Undergraduate Research</a></li></ul><ul class=\"nav-column\"><li><a href=\"/research/graduate-research\">Graduate Research</a></li><li><a href=\"/research/research-centers-and-institutes\">Research Centers &amp; Institutes</a></li><li><a href=\"/research/libraries\">Libraries</a></li></ul><ul class=\"nav-column\"><li><a href=\"/research/administration-overview\">Administration Overview</a></li></ul><a class=\"close\" href=\"\">Close (X)</a> \n",
       " \t\t\t\t\t\t\t\t</li>,\n",
       " <li><a href=\"/research/\">Overview</a></li>,\n",
       " <li><a href=\"/research/opportunities-for-partnerships\">Opportunities For Partnerships</a></li>,\n",
       " <li><a href=\"/research/undergraduate-research\">Undergraduate Research</a></li>,\n",
       " <li><a href=\"/research/graduate-research\">Graduate Research</a></li>,\n",
       " <li><a href=\"/research/research-centers-and-institutes\">Research Centers &amp; Institutes</a></li>,\n",
       " <li><a href=\"/research/libraries\">Libraries</a></li>,\n",
       " <li><a href=\"/research/administration-overview\">Administration Overview</a></li>,\n",
       " <li><a href=\"/athletics\">ATHLETICS</a></li>,\n",
       " <li><a href=\"/visit\">Visit</a></li>,\n",
       " <li><a href=\"/apply\">Apply</a></li>,\n",
       " <li id=\"callout-nav-give-now\"><a href=\"http://giveto.ucla.edu/?utm_campaign=Centennial+Campaign+Launch&amp;utm_source=Gateway+Takeover&amp;utm_medium=website&amp;utm_content=Give+Now+Button\">Give<br/>Now</a></li>,\n",
       " <li>\n",
       " \t\t\t\t\t\t<a href=\"http://ucla.in/2gJ641M\">\n",
       " \t\t\t\t\t\t\t<img alt=\"Harnessing the power of optimism\" src=\"/img/content-images/spotlight/1-optimist-090517.jpg\"/>\n",
       " \t\t\t\t\t\t\t<p class=\"flex-caption\">\n",
       " \t\t\t\t\t\t\t\t<strong>AT UCLA, THE POSSIBILITIES ARE ENDLESS</strong><br/>\n",
       " \t\t\t\t\t\t\t\t<span class=\"flex-caption-small\">UCLA OPTIMISTS STRIVE TO MAKE THE WORLD BETTER FOR EVERYONE.</span>\t\t\t\t\t\t\t</p>\n",
       " \t\t\t\t\t\t</a>\n",
       " \t\t\t\t\t</li>,\n",
       " <li>\n",
       " \t\t\t\t\t\t<a href=\"http://ucla.in/2xgqYMm\">\n",
       " \t\t\t\t\t\t\t<img alt=\"Year in Review\" src=\"/img/content-images/spotlight/2b-YIR.jpg\"/>\n",
       " \t\t\t\t\t\t\t<p class=\"flex-caption\">\n",
       " \t\t\t\t\t\t\t\t<strong>A YEAR OF AMAZING ACCOMPLISHMENTS.</strong><br/>\n",
       " \t\t\t\t\t\t\t\t<span class=\"flex-caption-small\">SEE EXAMPLES OF HOW UCLA MADE DARING LEAPS FORWARD IN 2016-17.</span>\t\t\t\t\t\t\t</p>\n",
       " \t\t\t\t\t\t</a>\n",
       " \t\t\t\t\t</li>,\n",
       " <li>\n",
       " \t\t\t\t\t\t<a href=\"http://ucla.in/2wqaSjQ\">\n",
       " \t\t\t\t\t\t\t<img alt=\"True Bruin Welcome\" src=\"/img/content-images/spotlight/3b-truebruinwelcome.jpg\"/>\n",
       " \t\t\t\t\t\t\t<p class=\"flex-caption\">\n",
       " \t\t\t\t\t\t\t\t<strong>TRUE BRUIN WELCOME</strong><br/>\n",
       " \t\t\t\t\t\t\t\t<span class=\"flex-caption-small\">A FUN-FILLED TRADITION FOR INCOMING STUDENTS.</span>\t\t\t\t\t\t\t</p>\n",
       " \t\t\t\t\t\t</a>\n",
       " \t\t\t\t\t</li>,\n",
       " <li>\n",
       " \t\t\t\t\t\t<a href=\"http://ucla.in/2eMCvsw\">\n",
       " \t\t\t\t\t\t\t<img alt=\"Give to UCLA Bruin Marching Band\" src=\"/img/content-images/spotlight/4-marchingband2.jpg\"/>\n",
       " \t\t\t\t\t\t\t<p class=\"flex-caption\">\n",
       " \t\t\t\t\t\t\t\t<strong>KEEPING SPIRITS HIGH</strong><br/>\n",
       " \t\t\t\t\t\t\t\t<span class=\"flex-caption-small\">SUPPORT THE UCLA BRUIN MARCHING BAND.</span>\t\t\t\t\t\t\t</p>\n",
       " \t\t\t\t\t\t</a>\n",
       " \t\t\t\t\t</li>,\n",
       " <li class=\"story\"><a href=\"http://ucla.in/2w88zOl\"><img alt=\"Swearing in ceremony\" class=\"photo\" src=\"/img/features/Justice Corps swearing-in.jpg\"/><span class=\"title\">Justice for all Angelenos</span></a>\n",
       " \t\t\t\t\t<div class=\"text\">\n",
       " \t\t\t\t\t\t<p>Students in JusticeCorps make sure people know their rights in court.</p> \n",
       " \t\t\t\t\t</div>\n",
       " \t\t\t\t</li>,\n",
       " <li class=\"story\"><a href=\"http://ucla.in/2ycTzPD\"><img alt=\"Move-in day\" class=\"photo\" src=\"/img/features/move-in-2017-small.jpg\"/><span class=\"title\">Welcome back, Bruins!</span></a>\n",
       " \t\t\t\t\t<div class=\"text\">\n",
       " \t\t\t\t\t\t<p>New students have their choice of dozens of activities to begin the academic year</p> \n",
       " \t\t\t\t\t</div>\n",
       " \t\t\t\t</li>,\n",
       " <li class=\"story\"><a href=\"http://ucla.in/2fvHIp5\"><img alt=\"Placido Domingo\" class=\"photo\" src=\"/img/features/PlacidoDomingo+by+Kaori+Suzuki_d722c813-b6f5-4cdc-a2e1-86bd36382558-prv.jpg\"/><span class=\"title\">Placido Domingo to receive UCLA Medal</span></a>\n",
       " \t\t\t\t\t<div class=\"text\">\n",
       " \t\t\t\t\t\t<p>Opera singer and conductor a powerful champion for the arts</p> \n",
       " \t\t\t\t\t</div>\n",
       " \t\t\t\t</li>,\n",
       " <li>\n",
       " \t\t\t\t\t\t\t\t   <a href=\"http://newsroom.ucla.edu/releases/wall-street-journaltimes-higher-education-rank-ucla-no-1-public-university\">Wall Street Journal/Times Higher Education rank UCLA No. 1 public university</a>\n",
       " \t\t\t\t\t\t\t\t </li>,\n",
       " <li>\n",
       " \t\t\t\t\t\t\t\t   <a href=\"http://newsroom.ucla.edu/releases/2-million-gift-from-alumnus-establishes-ucla-faculty-chairs-chemistry-and-biochemistry\">$2 million gift from alumnus establishes UCLA faculty chairs in chemistry and biochemistry</a>\n",
       " \t\t\t\t\t\t\t\t </li>,\n",
       " <li>\n",
       " \t\t\t\t\t\t\t\t   <a href=\"http://newsroom.ucla.edu/releases/ucla-anderson-forecast-expects-modest-growth-and-some-disruptions\">Anderson Forecast expects modest growth and some disruptions</a>\n",
       " \t\t\t\t\t\t\t\t </li>,\n",
       " <li>\n",
       " \t\t\t\t\t\t\t\t   <a href=\"http://newsroom.ucla.edu/releases/conference-at-ucla-explores-the-significance-of-american-jewish-music-and-its-reach\">Conference to explore American Jewish music and its reach</a>\n",
       " \t\t\t\t\t\t\t\t </li>,\n",
       " <li>\n",
       " \t\t\t\t\t\t\t\t   <a href=\"http://newsroom.ucla.edu/releases/8-3-million-grant-from-national-science-foundation-will-help-ucla-spread-technology-behind-mini-microscope\">$8.3 million grant will help UCLA spread technology behind mini microscope</a>\n",
       " \t\t\t\t\t\t\t\t </li>,\n",
       " <li>\n",
       " \t\t\t\t\t\t\t\t   <a href=\"http://newsroom.ucla.edu/stories/chancellor-draws-on-personal-story-focuses-on-diverse-ideas-in-welcome-address\">Chancellor draws on personal story, focuses on diverse ideas in welcome address</a>\n",
       " \t\t\t\t\t\t\t\t </li>,\n",
       " <li>\n",
       " \t\t\t\t\t\t<a href=\"http://happenings.ucla.edu/all/event/233602\"><img alt=\"\" src=\"/img/happenings/2614-scroller.jpg\" width=\"216\"/>\n",
       " \t\t\t\t\t\tTODAY: Football vs. Colorado</a>\n",
       " \t\t\t\t\t </li>,\n",
       " <li>\n",
       " \t\t\t\t\t\t<a href=\"http://happenings.ucla.edu/all/event/243014\"><img alt=\"\" src=\"/img/happenings/2611-scroller.jpg\" width=\"216\"/>\n",
       " \t\t\t\t\t\tTODAY: Eclipse de sol &amp; El cura Lorenzo</a>\n",
       " \t\t\t\t\t </li>,\n",
       " <li>\n",
       " \t\t\t\t\t\t<a href=\"http://happenings.ucla.edu/all/event/242566\"><img alt=\"\" src=\"/img/happenings/2608-scroller.jpg\" width=\"216\"/>\n",
       " \t\t\t\t\t\t10/01  826LA@Hammer: Radical, Magical Women</a>\n",
       " \t\t\t\t\t </li>,\n",
       " <li><a href=\"http://www.facebook.com/uclabruins\"><span class=\"facebook\"></span>Facebook</a></li>,\n",
       " <li><a href=\"http://twitter.com/ucla\"><span class=\"twitter\"></span>Twitter</a></li>,\n",
       " <li><a href=\"http://www.instagram.com/ucla\"><span class=\"instagram\"></span>Instagram</a></li>,\n",
       " <li><a href=\"https://www.snapchat.com/add/uclaofficial\"><span class=\"snapchat\"></span>Snapchat</a></li>,\n",
       " <li><a href=\"https://www.linkedin.com/company/ucla\"><span class=\"linkedin\"></span>LinkedIn</a></li>,\n",
       " <li><a href=\"https://www.youtube.com/user/UCLA\"><span class=\"youtube\"></span>YouTube</a></li>,\n",
       " <li>\n",
       "                     <a class=\"text-link\" href=\"/about/careers\">\n",
       "                       <span>Careers</span>\n",
       "                     </a>\n",
       "                   </li>,\n",
       " <li>\n",
       "                     <a class=\"text-link\" href=\"http://www.directory.ucla.edu/\">\n",
       "                       <span>Directory</span>\n",
       "                     </a>\n",
       "                   </li>,\n",
       " <li>\n",
       "                     <a class=\"text-link\" href=\"/contact\">\n",
       "                       <span>Contact</span>\n",
       "                     </a>\n",
       "                   </li>,\n",
       " <li>\n",
       "                     <a class=\"text-link\" href=\"http://www.registrar.ucla.edu/Calendars/Overview\">\n",
       "                       <span>Academic Calendar</span>\n",
       "                     </a>\n",
       "                   </li>,\n",
       " <li>\n",
       "                     <a class=\"text-link\" href=\"/maps-directions-parking/\">\n",
       "                       <span>Maps, Directions</span>\n",
       "                     </a>\n",
       "                   </li>,\n",
       " <li>\n",
       "                     <a class=\"text-link\" href=\"https://main.transportation.ucla.edu/campus-parking\">\n",
       "                       <span>Parking &amp; Transportation</span>\n",
       "                     </a>\n",
       "                   </li>,\n",
       " <li>\n",
       "                     <a class=\"text-link\" href=\"https://www.emergency.ucla.edu/\">\n",
       "                       <span>Emergency</span>\n",
       "                     </a>\n",
       "                   </li>,\n",
       " <li>\n",
       "                     <a class=\"text-link\" href=\"https://equity.ucla.edu/\">\n",
       "                       <span>Equity, Diversity &amp; Inclusion</span>\n",
       "                     </a>\n",
       "                   </li>,\n",
       " <li>\n",
       "                     <a class=\"text-link\" href=\"http://www.sustain.ucla.edu/\">\n",
       "                       <span>Sustainability</span>\n",
       "                     </a>\n",
       "                   </li>,\n",
       " <li>\n",
       "                     <a class=\"text-link\" href=\"http://www.truebruin.ucla.edu/\">\n",
       "                       <span>True Bruin Statement</span>\n",
       "                     </a>\n",
       "                   </li>,\n",
       " <li>\n",
       "                     <a class=\"text-link\" href=\"http://volunteer.ucla.edu/\">\n",
       "                       <span>Volunteerism</span>\n",
       "                     </a>\n",
       "                   </li>,\n",
       " <li>\n",
       "                     <a class=\"text-link\" href=\"http://luskinconferencecenter.ucla.edu\">\n",
       "                       <span>Luskin Conference Center</span>\n",
       "                     </a>\n",
       "                   </li>,\n",
       " <li>\n",
       "                     <a class=\"text-link\" href=\"https://www.events.ucla.edu/\">\n",
       "                       <span>Event Planning</span>\n",
       "                     </a>\n",
       "                   </li>,\n",
       " <li>\n",
       "                     <a class=\"text-link\" href=\"http://uclaevents.com/filming-and-photography/\">\n",
       "                       <span>Film Production</span>\n",
       "                     </a>\n",
       "                   </li>]"
      ]
     },
     "execution_count": 25,
     "metadata": {},
     "output_type": "execute_result"
    }
   ],
   "source": [
    "# find all tags \"li\" as a list\n",
    "\n",
    "x = soup.find_all('li')\n",
    "x"
   ]
  },
  {
   "cell_type": "markdown",
   "metadata": {},
   "source": [
    "## Some web sites require a nicer connection"
   ]
  },
  {
   "cell_type": "code",
   "execution_count": 34,
   "metadata": {
    "collapsed": true
   },
   "outputs": [],
   "source": [
    "# the URL of a book\n",
    "\n",
    "url = 'https://www.amazon.com/dp/149190142X/ref=cm_sw_r_cp_ep_dp_N-YZzb1A4XTTR'"
   ]
  },
  {
   "cell_type": "code",
   "execution_count": 35,
   "metadata": {},
   "outputs": [],
   "source": [
    "from urllib.error import URLError\n",
    "try:\n",
    "    page = urllib.request.urlopen(url)\n",
    "except URLError as e:\n",
    "    print(e)"
   ]
  },
  {
   "cell_type": "code",
   "execution_count": 28,
   "metadata": {
    "collapsed": true
   },
   "outputs": [],
   "source": [
    "# We need to \"pretend\" that we are coming from a browser (user-agent)\n",
    "\n",
    "agent = 'Mozilla/5.0 (Windows; U; WinNT4.0; en-US; rv:1.7.9) Gecko/20050711 Firefox/1.0.5'\n",
    "req = urllib.request.Request(url, headers = {'User-Agent': agent})"
   ]
  },
  {
   "cell_type": "code",
   "execution_count": 29,
   "metadata": {
    "collapsed": true
   },
   "outputs": [],
   "source": [
    "page = urllib.request.urlopen(req)\n",
    "html= page.read()\n",
    "soup = BeautifulSoup(html, \"html5lib\")"
   ]
  },
  {
   "cell_type": "code",
   "execution_count": 30,
   "metadata": {},
   "outputs": [
    {
     "data": {
      "text/plain": [
       "<title>Data Science from Scratch: First Principles with Python: Joel Grus: 9781491901427: Amazon.com: Books</title>"
      ]
     },
     "execution_count": 30,
     "metadata": {},
     "output_type": "execute_result"
    }
   ],
   "source": [
    "soup.title"
   ]
  },
  {
   "cell_type": "code",
   "execution_count": 31,
   "metadata": {},
   "outputs": [
    {
     "data": {
      "text/plain": [
       "'$20.50'"
      ]
     },
     "execution_count": 31,
     "metadata": {},
     "output_type": "execute_result"
    }
   ],
   "source": [
    "soup.find_all('span', {'class': 'a-size-base mediaTab_subtitle'})[1].get_text().strip()"
   ]
  },
  {
   "cell_type": "markdown",
   "metadata": {},
   "source": [
    "If the web site has stronger protection mechanism, you may have to feed random user agents at different times."
   ]
  },
  {
   "cell_type": "code",
   "execution_count": 32,
   "metadata": {
    "collapsed": true
   },
   "outputs": [],
   "source": [
    "import random\n",
    "def get_user_agent():\n",
    "    \"\"\"\n",
    "      Return a random user agent from the list\n",
    "    \"\"\"\n",
    "    db = [ 'Mozilla/5.0 (Macintosh; U; Intel Mac OS X 10.5; en-US; rv:1.9.1b3) Gecko/20090305 Firefox/3.1b3 GTB5',\n",
    "            'Mozilla/5.0 (Macintosh; U; Intel Mac OS X 10.5; ko; rv:1.9.1b2) Gecko/20081201 Firefox/3.1b2',\n",
    "            'Mozilla/5.0 (X11; U; SunOS sun4u; en-US; rv:1.9b5) Gecko/2008032620 Firefox/3.0b5',\n",
    "            'Mozilla/5.0 (X11; U; Linux x86_64; en-US; rv:1.8.1.12) Gecko/20080214 Firefox/2.0.0.12',\n",
    "            'Mozilla/5.0 (Windows; U; Windows NT 5.1; cs; rv:1.9.0.8) Gecko/2009032609 Firefox/3.0.8',\n",
    "            'Mozilla/5.0 (X11; U; OpenBSD i386; en-US; rv:1.8.0.5) Gecko/20060819 Firefox/1.5.0.5',\n",
    "            'Mozilla/5.0 (Windows; U; Windows NT 5.0; es-ES; rv:1.8.0.3) Gecko/20060426 Firefox/1.5.0.3',\n",
    "            'Mozilla/5.0 (Windows; U; WinNT4.0; en-US; rv:1.7.9) Gecko/20050711 Firefox/1.0.5'\n",
    "        ]\n",
    "    idx = random.randrange(0, len(db))\n",
    "    return db[idx]"
   ]
  },
  {
   "cell_type": "code",
   "execution_count": null,
   "metadata": {
    "collapsed": true
   },
   "outputs": [],
   "source": []
  }
 ],
 "metadata": {
  "kernelspec": {
   "display_name": "Python 3",
   "language": "python",
   "name": "python3"
  },
  "language_info": {
   "codemirror_mode": {
    "name": "ipython",
    "version": 3
   },
   "file_extension": ".py",
   "mimetype": "text/x-python",
   "name": "python",
   "nbconvert_exporter": "python",
   "pygments_lexer": "ipython3",
   "version": "3.6.5"
  }
 },
 "nbformat": 4,
 "nbformat_minor": 2
}
