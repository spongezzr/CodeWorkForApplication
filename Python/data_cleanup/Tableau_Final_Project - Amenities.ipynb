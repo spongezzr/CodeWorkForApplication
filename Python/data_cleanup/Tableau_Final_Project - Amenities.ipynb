{
 "cells": [
  {
   "cell_type": "code",
   "execution_count": 17,
   "metadata": {
    "collapsed": true
   },
   "outputs": [],
   "source": [
    "import pandas as pd\n",
    "import numpy as np"
   ]
  },
  {
   "cell_type": "code",
   "execution_count": 18,
   "metadata": {
    "collapsed": true
   },
   "outputs": [],
   "source": [
    "df = pd.read_csv('listings.am 2.csv')\n",
    "dffinal = pd.read_csv('Listings_AM_Final.csv')"
   ]
  },
  {
   "cell_type": "code",
   "execution_count": 19,
   "metadata": {
    "collapsed": true
   },
   "outputs": [],
   "source": [
    "Amen = df['amenities'].str.split(',', expand = True)\n",
    "Amen = Amen.replace('{','',regex=True)\n",
    "Amen = Amen.replace('\"',\"\", regex = True)\n",
    "Amen = Amen.replace('}',\"\", regex = True)"
   ]
  },
  {
   "cell_type": "code",
   "execution_count": 20,
   "metadata": {
    "collapsed": true
   },
   "outputs": [],
   "source": [
    "Amen.columns = [ 'Amen{}'.format(x) for x in range(1, len(Amen.columns)+1)]"
   ]
  },
  {
   "cell_type": "code",
   "execution_count": 21,
   "metadata": {
    "collapsed": true
   },
   "outputs": [],
   "source": [
    "AmenList = Amen.iloc[0,].tolist()\n",
    "for x in range(0, 18546):\n",
    "    for i in Amen.iloc[x,].tolist():\n",
    "        if i not in AmenList:\n",
    "            AmenList.append(i)\n",
    "AmenList = [a for a in AmenList if a != None and a != \"\"]   "
   ]
  },
  {
   "cell_type": "code",
   "execution_count": 22,
   "metadata": {
    "collapsed": true
   },
   "outputs": [],
   "source": [
    "AmenData = pd.DataFrame(columns = [AmenList], index = range(0,18547))"
   ]
  },
  {
   "cell_type": "code",
   "execution_count": 23,
   "metadata": {
    "collapsed": true
   },
   "outputs": [],
   "source": [
    "for x in range(0, len(AmenData.axes[0])):\n",
    "    for i in range(0, len(AmenData.columns)):\n",
    "        if AmenData.columns[i] in Amen.iloc[x,].tolist():\n",
    "            AmenData.iloc[x,i] = 1\n",
    "        else: AmenData.iloc[x,i] = 0"
   ]
  },
  {
   "cell_type": "code",
   "execution_count": 24,
   "metadata": {
    "collapsed": true
   },
   "outputs": [],
   "source": [
    "dffinal.join(AmenData).to_csv('DFwithAmen.csv')"
   ]
  },
  {
   "cell_type": "code",
   "execution_count": 25,
   "metadata": {
    "collapsed": true
   },
   "outputs": [],
   "source": [
    "Freq = Amen.apply(pd.value_counts).fillna(0)"
   ]
  },
  {
   "cell_type": "code",
   "execution_count": 26,
   "metadata": {},
   "outputs": [
    {
     "data": {
      "text/plain": [
       "                                                 37.0\n",
       " smooth pathway to front door                   325.0\n",
       "24-hour check-in                               2416.0\n",
       "Accessible-height bed                           328.0\n",
       "Accessible-height toilet                         49.0\n",
       "Air conditioning                                786.0\n",
       "Air purifier                                      7.0\n",
       "BBQ grill                                       332.0\n",
       "Baby bath                                       364.0\n",
       "Baby monitor                                    185.0\n",
       "Babysitter recommendations                      408.0\n",
       "Bathtub                                         992.0\n",
       "Bathtub with shower chair                        11.0\n",
       "Beach essentials                                 37.0\n",
       "Beachfront                                       13.0\n",
       "Bed linens                                     2788.0\n",
       "Breakfast                                      1539.0\n",
       "Buzzer/wireless intercom                       3588.0\n",
       "Cable TV                                       7885.0\n",
       "Carbon monoxide detector                       6643.0\n",
       "Cat(s)                                          892.0\n",
       "Changing table                                  435.0\n",
       "Children’s books and toys                       921.0\n",
       "Children’s dinnerware                           668.0\n",
       "Cleaning before checkout                        122.0\n",
       "Coffee maker                                   2361.0\n",
       "Cooking basics                                 2652.0\n",
       "Crib                                            674.0\n",
       "Disabled parking spot                            60.0\n",
       "Dishes and silverware                          2662.0\n",
       "                                               ...   \n",
       "Roll-in shower with chair                         7.0\n",
       "Room-darkening shades                           574.0\n",
       "Safety card                                    2872.0\n",
       "Self Check-In                                   641.0\n",
       "Shampoo                                       10919.0\n",
       "Single level home                               528.0\n",
       "Ski in/Ski out                                    2.0\n",
       "Smart lock                                       51.0\n",
       "Smoke detector                                14016.0\n",
       "Smoking allowed                                1386.0\n",
       "Stair gates                                     294.0\n",
       "Step-free access                               1151.0\n",
       "Stove                                          2367.0\n",
       "Suitable for events                             251.0\n",
       "TV                                            14527.0\n",
       "Table corner guards                              36.0\n",
       "Washer                                        13850.0\n",
       "Washer / Dryer                                    2.0\n",
       "Waterfront                                      370.0\n",
       "Well-lit path to entrance                       539.0\n",
       "Wheelchair accessible                          1094.0\n",
       "Wide clearance to bed                           265.0\n",
       "Wide clearance to shower & toilet               103.0\n",
       "Wide doorway                                    762.0\n",
       "Wide entryway                                   210.0\n",
       "Wide hallway clearance                          345.0\n",
       "Window guards                                   276.0\n",
       "Wireless Internet                             18192.0\n",
       "translation missing: en.hosting_amenity_49     4644.0\n",
       "translation missing: en.hosting_amenity_50     5907.0\n",
       "Length: 118, dtype: float64"
      ]
     },
     "execution_count": 26,
     "metadata": {},
     "output_type": "execute_result"
    }
   ],
   "source": [
    "Freq.sum(axis = 1)"
   ]
  },
  {
   "cell_type": "code",
   "execution_count": 27,
   "metadata": {
    "collapsed": true
   },
   "outputs": [],
   "source": [
    "Amen.to_csv(\"Amenities.csv\")"
   ]
  }
 ],
 "metadata": {
  "kernelspec": {
   "display_name": "Python 3",
   "language": "python",
   "name": "python3"
  },
  "language_info": {
   "codemirror_mode": {
    "name": "ipython",
    "version": 3
   },
   "file_extension": ".py",
   "mimetype": "text/x-python",
   "name": "python",
   "nbconvert_exporter": "python",
   "pygments_lexer": "ipython3",
   "version": "3.5.4"
  }
 },
 "nbformat": 4,
 "nbformat_minor": 2
}
